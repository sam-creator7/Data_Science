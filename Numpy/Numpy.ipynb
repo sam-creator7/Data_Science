{
 "cells": [
  {
   "cell_type": "code",
   "execution_count": 1,
   "id": "a89116c9-934c-419b-9e69-108e6f4ba661",
   "metadata": {},
   "outputs": [],
   "source": [
    "import numpy as np"
   ]
  },
  {
   "cell_type": "code",
   "execution_count": 2,
   "id": "e6e301a0-873f-4648-913a-126a6ed9eb43",
   "metadata": {},
   "outputs": [
    {
     "data": {
      "text/plain": [
       "array([[ 0,  1,  2,  3],\n",
       "       [ 4,  5,  6,  7],\n",
       "       [ 8,  9, 10, 11]])"
      ]
     },
     "execution_count": 2,
     "metadata": {},
     "output_type": "execute_result"
    }
   ],
   "source": [
    "a=np.arange(12).reshape(3,4)\n",
    "\n",
    "a"
   ]
  },
  {
   "cell_type": "code",
   "execution_count": 8,
   "id": "2002c469-ff04-43ba-af8a-c447f860301c",
   "metadata": {},
   "outputs": [
    {
     "name": "stdout",
     "output_type": "stream",
     "text": [
      "0\n",
      "1\n",
      "2\n",
      "3\n",
      "4\n",
      "5\n",
      "6\n",
      "7\n",
      "8\n",
      "9\n",
      "10\n",
      "11\n"
     ]
    }
   ],
   "source": [
    "for cell in a.flatten():\n",
    "        print(cell)\n"
   ]
  },
  {
   "cell_type": "code",
   "execution_count": 12,
   "id": "50fabee3-b515-4814-ab83-4a4c3c921e80",
   "metadata": {},
   "outputs": [
    {
     "name": "stdout",
     "output_type": "stream",
     "text": [
      "[0 4 8]\n",
      "[1 5 9]\n",
      "[ 2  6 10]\n",
      "[ 3  7 11]\n"
     ]
    }
   ],
   "source": [
    "for x in np.nditer(a,order='F',flags=['external_loop']):\n",
    "    print(x)"
   ]
  },
  {
   "cell_type": "code",
   "execution_count": 14,
   "id": "ab3f21b0-d33d-4300-ac2d-f5078ebebf2d",
   "metadata": {},
   "outputs": [],
   "source": [
    "for x in np.nditer(a,op_flags=['readwrite']):\n",
    "    x[...]=x*x"
   ]
  },
  {
   "cell_type": "code",
   "execution_count": 15,
   "id": "97c22273-56f7-480a-b805-085253067570",
   "metadata": {},
   "outputs": [
    {
     "data": {
      "text/plain": [
       "array([[  0,   1,   4,   9],\n",
       "       [ 16,  25,  36,  49],\n",
       "       [ 64,  81, 100, 121]])"
      ]
     },
     "execution_count": 15,
     "metadata": {},
     "output_type": "execute_result"
    }
   ],
   "source": [
    "a"
   ]
  },
  {
   "cell_type": "code",
   "execution_count": 17,
   "id": "8ca8fe07-c0dd-4ebe-aa0d-b4716590874d",
   "metadata": {},
   "outputs": [
    {
     "data": {
      "text/plain": [
       "array([[ 3],\n",
       "       [ 7],\n",
       "       [11]])"
      ]
     },
     "execution_count": 17,
     "metadata": {},
     "output_type": "execute_result"
    }
   ],
   "source": [
    "b=np.arange(3,15,4).reshape(3,1)\n",
    "b"
   ]
  },
  {
   "cell_type": "code",
   "execution_count": 18,
   "id": "378aac8e-cb7c-4898-9677-e0e8c455ec15",
   "metadata": {},
   "outputs": [
    {
     "name": "stdout",
     "output_type": "stream",
     "text": [
      "0 3\n",
      "1 3\n",
      "4 3\n",
      "9 3\n",
      "16 7\n",
      "25 7\n",
      "36 7\n",
      "49 7\n",
      "64 11\n",
      "81 11\n",
      "100 11\n",
      "121 11\n"
     ]
    }
   ],
   "source": [
    "for x,y in np.nditer([a,b]):\n",
    "    print(x,y)"
   ]
  },
  {
   "cell_type": "code",
   "execution_count": null,
   "id": "176ba63a-ff55-477c-98cb-acde4fafdb0a",
   "metadata": {},
   "outputs": [],
   "source": []
  }
 ],
 "metadata": {
  "kernelspec": {
   "display_name": "Python 3 (ipykernel)",
   "language": "python",
   "name": "python3"
  },
  "language_info": {
   "codemirror_mode": {
    "name": "ipython",
    "version": 3
   },
   "file_extension": ".py",
   "mimetype": "text/x-python",
   "name": "python",
   "nbconvert_exporter": "python",
   "pygments_lexer": "ipython3",
   "version": "3.11.5"
  }
 },
 "nbformat": 4,
 "nbformat_minor": 5
}
